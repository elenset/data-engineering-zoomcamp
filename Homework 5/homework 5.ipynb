import pyspark
from pyspark.sql import SparkSession

# Initialize Spark Session
spark = SparkSession.builder \
    .master("local[*]") \
    .appName("taxi_data_analysis") \
    .getOrCreate()

# Q1: Check Spark Version
spark_version = spark.version
print(f"Spark Version: {spark_version}")

# Q2: Repartitioning the Data
# Check the original file size
!ls -lh data/yellow_tripdata_2024-10.parquet

# Read the Parquet file into a DataFrame
taxi_df = spark.read.parquet('data/yellow_tripdata_2024-10.parquet')

# Repartition the DataFrame into 4 partitions and write to a new directory
taxi_df.repartition(4).write.parquet('data/yellow_tripdata_repartitioned', mode='overwrite')

# Verify the repartitioned data
!ls -lh data/yellow_tripdata_repartitioned

# Q3: Analyzing Taxi Trip Data
# Print the schema of the DataFrame
taxi_df.printSchema()

# Register the DataFrame as a temporary table
taxi_df.createOrReplaceTempView('taxi_trips')

# Query to count the number of trips on '2024-10-15'
query = """
SELECT
    count(*) AS trip_count
FROM
    taxi_trips
WHERE
    DATE(tpep_pickup_datetime) = '2024-10-15'
"""
trip_count_df = spark.sql(query)
trip_count_df.show()

# Q4: Find the maximum trip duration
query_duration = """
SELECT
    max((unix_timestamp(tpep_dropoff_datetime) - unix_timestamp(tpep_pickup_datetime)) / 3600) AS max_trip_duration_hours
FROM
    taxi_trips
"""

max_duration_df = spark.sql(query_duration)
max_duration_df.show()

# Q5: Find the least popular pickup location
# Download the taxi zone lookup CSV file
!wget https://d37ci6vzurychx.cloudfront.net/misc/taxi_zone_lookup.csv

# Read the taxi zone lookup CSV into a DataFrame
zones_df = spark.read.option("header", "true").csv('taxi_zone_lookup.csv')

# Show the zones DataFrame
zones_df.show()

# SQL query to find the least frequent pickup location
least_popular_query = """
SELECT
    PULocationID,
    count(*) AS trip_count
FROM
    taxi_trips
GROUP BY PULocationID
ORDER BY trip_count ASC
LIMIT 1
"""
least_popular_df = spark.sql(least_popular_query)

# Join the least popular pickup location with the zones data
final_result_df = least_popular_df.join(zones_df, least_popular_df.PULocationID == zones_df.LocationID)

# Show the final result
final_result_df.show()
